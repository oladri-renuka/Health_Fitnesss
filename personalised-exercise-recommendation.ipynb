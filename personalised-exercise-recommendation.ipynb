{
 "cells": [
  {
   "cell_type": "code",
   "execution_count": 17,
   "metadata": {
    "_cell_guid": "b1076dfc-b9ad-4769-8c92-a6c4dae69d19",
    "_uuid": "8f2839f25d086af736a60e9eeb907d3b93b6e0e5",
    "execution": {
     "iopub.execute_input": "2025-02-01T13:55:41.627244Z",
     "iopub.status.busy": "2025-02-01T13:55:41.626724Z",
     "iopub.status.idle": "2025-02-01T13:55:41.653207Z",
     "shell.execute_reply": "2025-02-01T13:55:41.651892Z",
     "shell.execute_reply.started": "2025-02-01T13:55:41.627210Z"
    }
   },
   "outputs": [
    {
     "name": "stdout",
     "output_type": "stream",
     "text": [
      "/kaggle/input/exercise-recommendation/gym recommendation.csv\n"
     ]
    }
   ],
   "source": [
    "# This Python 3 environment comes with many helpful analytics libraries installed\n",
    "# It is defined by the kaggle/python Docker image: https://github.com/kaggle/docker-python\n",
    "# For example, here's several helpful packages to load\n",
    "\n",
    "import numpy as np # linear algebra\n",
    "import pandas as pd # data processing, CSV file I/O (e.g. pd.read_csv)\n",
    "pd.set_option('display.max_colwidth', None)\n",
    "\n",
    "# Input data files are available in the read-only \"../input/\" directory\n",
    "# For example, running this (by clicking run or pressing Shift+Enter) will list all files under the input directory\n",
    "\n",
    "import os\n",
    "for dirname, _, filenames in os.walk('/kaggle/input'):\n",
    "    for filename in filenames:\n",
    "        print(os.path.join(dirname, filename))\n",
    "\n",
    "# You can write up to 20GB to the current directory (/kaggle/working/) that gets preserved as output when you create a version using \"Save & Run All\" \n",
    "# You can also write temporary files to /kaggle/temp/, but they won't be saved outside of the current session"
   ]
  },
  {
   "cell_type": "code",
   "execution_count": 63,
   "metadata": {
    "execution": {
     "iopub.execute_input": "2025-02-01T14:40:22.725319Z",
     "iopub.status.busy": "2025-02-01T14:40:22.724903Z",
     "iopub.status.idle": "2025-02-01T14:40:22.921528Z",
     "shell.execute_reply": "2025-02-01T14:40:22.920350Z",
     "shell.execute_reply.started": "2025-02-01T14:40:22.725289Z"
    }
   },
   "outputs": [],
   "source": [
    "gym=pd.read_csv(r'/kaggle/input/exercise-recommendation/gym recommendation.csv')"
   ]
  },
  {
   "cell_type": "code",
   "execution_count": 42,
   "metadata": {
    "execution": {
     "iopub.execute_input": "2025-02-01T14:25:39.112867Z",
     "iopub.status.busy": "2025-02-01T14:25:39.112536Z",
     "iopub.status.idle": "2025-02-01T14:25:39.130207Z",
     "shell.execute_reply": "2025-02-01T14:25:39.128872Z",
     "shell.execute_reply.started": "2025-02-01T14:25:39.112842Z"
    }
   },
   "outputs": [
    {
     "data": {
      "text/html": [
       "<div>\n",
       "<style scoped>\n",
       "    .dataframe tbody tr th:only-of-type {\n",
       "        vertical-align: middle;\n",
       "    }\n",
       "\n",
       "    .dataframe tbody tr th {\n",
       "        vertical-align: top;\n",
       "    }\n",
       "\n",
       "    .dataframe thead th {\n",
       "        text-align: right;\n",
       "    }\n",
       "</style>\n",
       "<table border=\"1\" class=\"dataframe\">\n",
       "  <thead>\n",
       "    <tr style=\"text-align: right;\">\n",
       "      <th></th>\n",
       "      <th>ID</th>\n",
       "      <th>Sex</th>\n",
       "      <th>Age</th>\n",
       "      <th>Height</th>\n",
       "      <th>Weight</th>\n",
       "      <th>Hypertension</th>\n",
       "      <th>Diabetes</th>\n",
       "      <th>BMI</th>\n",
       "      <th>Level</th>\n",
       "      <th>Fitness Goal</th>\n",
       "      <th>Fitness Type</th>\n",
       "      <th>Exercises</th>\n",
       "      <th>Equipment</th>\n",
       "      <th>Diet</th>\n",
       "      <th>Recommendation</th>\n",
       "    </tr>\n",
       "  </thead>\n",
       "  <tbody>\n",
       "    <tr>\n",
       "      <th>0</th>\n",
       "      <td>1</td>\n",
       "      <td>Male</td>\n",
       "      <td>18</td>\n",
       "      <td>1.68</td>\n",
       "      <td>47.5</td>\n",
       "      <td>No</td>\n",
       "      <td>No</td>\n",
       "      <td>16.83</td>\n",
       "      <td>Underweight</td>\n",
       "      <td>Weight Gain</td>\n",
       "      <td>Muscular Fitness</td>\n",
       "      <td>Squats, deadlifts, bench presses, and overhead presses</td>\n",
       "      <td>Dumbbells and barbells</td>\n",
       "      <td>Vegetables: (Carrots, Sweet Potato, and Lettuce); Protein Intake: (Red meats, poultry, fish, eggs, dairy products, legumes, and nuts); Juice: (Fruit juice, watermelon juice, carrot juice, apple juice and mango juice)</td>\n",
       "      <td>Follow a regular exercise schedule. Adhere to the exercise and diet plan to get better results. It is important to approach weight gain in a healthy and balanced way, focusing on both exercise and nutrition. Keep in mind that weight gain should be gradual and focused on building lean muscle rather than increasing fat. Additionally, it's always a good idea to consult with a health care professional or registered dietitian before making any significant changes to your exercise or diet plan. Here are some important tips:- Stay hydrated by drinking enough water throughout the day. Monitor your progress and adjust your diet and exercise routine accordingly. Get adequate sleep to support muscle recovery and overall health. Always monitor your situation, and consult your personal doctor or a professional counselor.</td>\n",
       "    </tr>\n",
       "    <tr>\n",
       "      <th>1</th>\n",
       "      <td>2</td>\n",
       "      <td>Male</td>\n",
       "      <td>18</td>\n",
       "      <td>1.68</td>\n",
       "      <td>47.5</td>\n",
       "      <td>Yes</td>\n",
       "      <td>No</td>\n",
       "      <td>16.83</td>\n",
       "      <td>Underweight</td>\n",
       "      <td>Weight Gain</td>\n",
       "      <td>Muscular Fitness</td>\n",
       "      <td>Squats, deadlifts, bench presses, and overhead presses</td>\n",
       "      <td>Light athletic shoes, resistance bands, and light dumbbells.</td>\n",
       "      <td>Vegetables: (Tomatoes, Garlic, leafy greens, broccoli, carrots, and bell peppers); Protein Intake: (poultry, fish, tofu, legumes, and low-fat dairy products); Juice: (Apple juice, beetroot juice and mango juice)</td>\n",
       "      <td>Follow a regular exercise schedule. Adhere to the exercise and diet plan to get better results. I'm not a medical professional, but I can give you general advice that you should talk to your healthcare provider before making any changes to your exercise or diet, especially if you have hypertension. It is important to work with a health care professional to create an individualized plan based on your unique health needs. Always consult a health care professional or dietician for personalized advice based on your specific medical condition, as high blood pressure requires careful management of diet and exercise. Here are some important tips:- Stay hydrated by drinking enough water throughout the day. Monitor your progress and adjust your diet and exercise routine accordingly. Get adequate sleep to support muscle recovery and overall health. Always monitor your situation, and consult your personal doctor or a professional counselor.</td>\n",
       "    </tr>\n",
       "    <tr>\n",
       "      <th>2</th>\n",
       "      <td>3</td>\n",
       "      <td>Male</td>\n",
       "      <td>18</td>\n",
       "      <td>1.68</td>\n",
       "      <td>47.5</td>\n",
       "      <td>No</td>\n",
       "      <td>Yes</td>\n",
       "      <td>16.83</td>\n",
       "      <td>Underweight</td>\n",
       "      <td>Weight Gain</td>\n",
       "      <td>Muscular Fitness</td>\n",
       "      <td>Squats, yoga, deadlifts, bench presses, and overhead presses</td>\n",
       "      <td>Dumbbells, barbells and Blood glucose monitor</td>\n",
       "      <td>Vegetables: (Garlic, Roma Tomatoes, Capers and Iceberg Lettuce); Protein Intake: (Cheese Standwish, Baru Nuts, Beech Nuts, Squash Seeds, and Mixed Teff); Juice: (Apple juice, beetroot juice and mango juice)</td>\n",
       "      <td>Follow a regular exercise schedule. Adhere to the exercise and diet plan to get better results. I'm not a doctor, but I give you general advice on weight gain exercises and diet plans. It is important for individuals with diabetes to consult with a health care professional, such as a registered dietitian or health care provider, to create an individualized plan that meets their unique needs. Also, avoid anything that can cause diabetes whether you are doing fitness or not. Here are some important tips:- Stay hydrated by drinking enough water throughout the day. Monitor your progress and adjust your diet and exercise routine accordingly. Get adequate sleep to support muscle recovery and overall health. Always monitor your situation, and consult your personal doctor or a professional counselor.</td>\n",
       "    </tr>\n",
       "    <tr>\n",
       "      <th>3</th>\n",
       "      <td>4</td>\n",
       "      <td>Male</td>\n",
       "      <td>18</td>\n",
       "      <td>1.68</td>\n",
       "      <td>47.5</td>\n",
       "      <td>Yes</td>\n",
       "      <td>Yes</td>\n",
       "      <td>16.83</td>\n",
       "      <td>Underweight</td>\n",
       "      <td>Weight Gain</td>\n",
       "      <td>Muscular Fitness</td>\n",
       "      <td>Squats, yoga, deadlifts, bench presses, and overhead presses</td>\n",
       "      <td>Light athletic shoes, resistance bands, light dumbbells and a Blood glucose monitor.</td>\n",
       "      <td>Vegetables: (Garlic, Roma Tomatoes, Capers, Green Papper, and Iceberg Lettuce); Protein Intake: (Cheese Sandwich, Baru Nuts, Beech Nuts, Squash Seeds, Mixed Teff, peanut butter, and jelly sandwich); Juice: (Apple juice, beetroot juice, and mango juice)</td>\n",
       "      <td>Follow a regular exercise schedule. Adhere to the exercise and diet plan to get better results. I'm not a doctor, but I give you general advice on weight gain exercises and diet plans. It is important for individuals with diabetes and high blood pressure to consult with a health care professional, such as a registered dietitian or health care provider, to find an individualized plan that meets their unique needs. also stop everything that can increase diabetes and blood pressure whether you are doing fitness or not. measure your sugar (diabetes) and blood before starting fitness. Here are some important tips:- Stay hydrated by drinking enough water throughout the day. Monitor your progress and adjust your diet and exercise routine accordingly. Get adequate sleep to support muscle recovery and overall health. Always monitor your situation, and consult your personal doctor or a professional counselor.</td>\n",
       "    </tr>\n",
       "    <tr>\n",
       "      <th>4</th>\n",
       "      <td>5</td>\n",
       "      <td>Male</td>\n",
       "      <td>18</td>\n",
       "      <td>1.68</td>\n",
       "      <td>47.5</td>\n",
       "      <td>No</td>\n",
       "      <td>No</td>\n",
       "      <td>16.83</td>\n",
       "      <td>Underweight</td>\n",
       "      <td>Weight Gain</td>\n",
       "      <td>Muscular Fitness</td>\n",
       "      <td>Squats, deadlifts, bench presses, and overhead presses</td>\n",
       "      <td>Dumbbells and barbells</td>\n",
       "      <td>Vegetables: (Carrots, Sweet Potato, Lettuce); Protein Intake: (Red meats, poultry, fish, eggs, dairy products, legumes, and nuts); Juice: (Fruit juice, watermelon juice, carrot juice, apple juice and mango juice)</td>\n",
       "      <td>Follow a regular exercise schedule. Adhere to the exercise and diet plan to get better results. It is important to approach weight gain in a healthy and balanced way, focusing on both exercise and nutrition. Keep in mind that weight gain should be gradual and focused on building lean muscle rather than increasing fat. Additionally, it's always a good idea to consult with a health care professional or registered dietitian before making any significant changes to your exercise or diet plan. Here are some important tips:- Stay hydrated by drinking enough water throughout the day. Monitor your progress and adjust your diet and exercise routine accordingly. Get adequate sleep to support muscle recovery and overall health. Always monitor your situation, and consult your personal doctor or a professional counselor.</td>\n",
       "    </tr>\n",
       "  </tbody>\n",
       "</table>\n",
       "</div>"
      ],
      "text/plain": [
       "   ID   Sex  Age  Height  Weight Hypertension Diabetes    BMI        Level  \\\n",
       "0   1  Male   18    1.68    47.5           No       No  16.83  Underweight   \n",
       "1   2  Male   18    1.68    47.5          Yes       No  16.83  Underweight   \n",
       "2   3  Male   18    1.68    47.5           No      Yes  16.83  Underweight   \n",
       "3   4  Male   18    1.68    47.5          Yes      Yes  16.83  Underweight   \n",
       "4   5  Male   18    1.68    47.5           No       No  16.83  Underweight   \n",
       "\n",
       "  Fitness Goal      Fitness Type  \\\n",
       "0  Weight Gain  Muscular Fitness   \n",
       "1  Weight Gain  Muscular Fitness   \n",
       "2  Weight Gain  Muscular Fitness   \n",
       "3  Weight Gain  Muscular Fitness   \n",
       "4  Weight Gain  Muscular Fitness   \n",
       "\n",
       "                                                      Exercises  \\\n",
       "0        Squats, deadlifts, bench presses, and overhead presses   \n",
       "1        Squats, deadlifts, bench presses, and overhead presses   \n",
       "2  Squats, yoga, deadlifts, bench presses, and overhead presses   \n",
       "3  Squats, yoga, deadlifts, bench presses, and overhead presses   \n",
       "4        Squats, deadlifts, bench presses, and overhead presses   \n",
       "\n",
       "                                                                              Equipment  \\\n",
       "0                                                                Dumbbells and barbells   \n",
       "1                          Light athletic shoes, resistance bands, and light dumbbells.   \n",
       "2                                         Dumbbells, barbells and Blood glucose monitor   \n",
       "3  Light athletic shoes, resistance bands, light dumbbells and a Blood glucose monitor.   \n",
       "4                                                                Dumbbells and barbells   \n",
       "\n",
       "                                                                                                                                                                                                                                                           Diet  \\\n",
       "0                                      Vegetables: (Carrots, Sweet Potato, and Lettuce); Protein Intake: (Red meats, poultry, fish, eggs, dairy products, legumes, and nuts); Juice: (Fruit juice, watermelon juice, carrot juice, apple juice and mango juice)   \n",
       "1                                           Vegetables: (Tomatoes, Garlic, leafy greens, broccoli, carrots, and bell peppers); Protein Intake: (poultry, fish, tofu, legumes, and low-fat dairy products); Juice: (Apple juice, beetroot juice and mango juice)   \n",
       "2                                                Vegetables: (Garlic, Roma Tomatoes, Capers and Iceberg Lettuce); Protein Intake: (Cheese Standwish, Baru Nuts, Beech Nuts, Squash Seeds, and Mixed Teff); Juice: (Apple juice, beetroot juice and mango juice)   \n",
       "3  Vegetables: (Garlic, Roma Tomatoes, Capers, Green Papper, and Iceberg Lettuce); Protein Intake: (Cheese Sandwich, Baru Nuts, Beech Nuts, Squash Seeds, Mixed Teff, peanut butter, and jelly sandwich); Juice: (Apple juice, beetroot juice, and mango juice)   \n",
       "4                                          Vegetables: (Carrots, Sweet Potato, Lettuce); Protein Intake: (Red meats, poultry, fish, eggs, dairy products, legumes, and nuts); Juice: (Fruit juice, watermelon juice, carrot juice, apple juice and mango juice)   \n",
       "\n",
       "                                                                                                                                                                                                                                                                                                                                                                                                                                                                                                                                                                                                                                                                                                                                                                                                                                                                                                                                                                    Recommendation  \n",
       "0                                                                                                                              Follow a regular exercise schedule. Adhere to the exercise and diet plan to get better results. It is important to approach weight gain in a healthy and balanced way, focusing on both exercise and nutrition. Keep in mind that weight gain should be gradual and focused on building lean muscle rather than increasing fat. Additionally, it's always a good idea to consult with a health care professional or registered dietitian before making any significant changes to your exercise or diet plan. Here are some important tips:- Stay hydrated by drinking enough water throughout the day. Monitor your progress and adjust your diet and exercise routine accordingly. Get adequate sleep to support muscle recovery and overall health. Always monitor your situation, and consult your personal doctor or a professional counselor.  \n",
       "1  Follow a regular exercise schedule. Adhere to the exercise and diet plan to get better results. I'm not a medical professional, but I can give you general advice that you should talk to your healthcare provider before making any changes to your exercise or diet, especially if you have hypertension. It is important to work with a health care professional to create an individualized plan based on your unique health needs. Always consult a health care professional or dietician for personalized advice based on your specific medical condition, as high blood pressure requires careful management of diet and exercise. Here are some important tips:- Stay hydrated by drinking enough water throughout the day. Monitor your progress and adjust your diet and exercise routine accordingly. Get adequate sleep to support muscle recovery and overall health. Always monitor your situation, and consult your personal doctor or a professional counselor.  \n",
       "2                                                                                                                                              Follow a regular exercise schedule. Adhere to the exercise and diet plan to get better results. I'm not a doctor, but I give you general advice on weight gain exercises and diet plans. It is important for individuals with diabetes to consult with a health care professional, such as a registered dietitian or health care provider, to create an individualized plan that meets their unique needs. Also, avoid anything that can cause diabetes whether you are doing fitness or not. Here are some important tips:- Stay hydrated by drinking enough water throughout the day. Monitor your progress and adjust your diet and exercise routine accordingly. Get adequate sleep to support muscle recovery and overall health. Always monitor your situation, and consult your personal doctor or a professional counselor.  \n",
       "3                                 Follow a regular exercise schedule. Adhere to the exercise and diet plan to get better results. I'm not a doctor, but I give you general advice on weight gain exercises and diet plans. It is important for individuals with diabetes and high blood pressure to consult with a health care professional, such as a registered dietitian or health care provider, to find an individualized plan that meets their unique needs. also stop everything that can increase diabetes and blood pressure whether you are doing fitness or not. measure your sugar (diabetes) and blood before starting fitness. Here are some important tips:- Stay hydrated by drinking enough water throughout the day. Monitor your progress and adjust your diet and exercise routine accordingly. Get adequate sleep to support muscle recovery and overall health. Always monitor your situation, and consult your personal doctor or a professional counselor.  \n",
       "4                                                                                                                              Follow a regular exercise schedule. Adhere to the exercise and diet plan to get better results. It is important to approach weight gain in a healthy and balanced way, focusing on both exercise and nutrition. Keep in mind that weight gain should be gradual and focused on building lean muscle rather than increasing fat. Additionally, it's always a good idea to consult with a health care professional or registered dietitian before making any significant changes to your exercise or diet plan. Here are some important tips:- Stay hydrated by drinking enough water throughout the day. Monitor your progress and adjust your diet and exercise routine accordingly. Get adequate sleep to support muscle recovery and overall health. Always monitor your situation, and consult your personal doctor or a professional counselor.  "
      ]
     },
     "execution_count": 42,
     "metadata": {},
     "output_type": "execute_result"
    }
   ],
   "source": [
    "gym.head()"
   ]
  },
  {
   "cell_type": "code",
   "execution_count": 43,
   "metadata": {
    "execution": {
     "iopub.execute_input": "2025-02-01T14:25:41.836873Z",
     "iopub.status.busy": "2025-02-01T14:25:41.836549Z",
     "iopub.status.idle": "2025-02-01T14:25:41.843029Z",
     "shell.execute_reply": "2025-02-01T14:25:41.841764Z",
     "shell.execute_reply.started": "2025-02-01T14:25:41.836847Z"
    }
   },
   "outputs": [
    {
     "data": {
      "text/plain": [
       "(14589, 15)"
      ]
     },
     "execution_count": 43,
     "metadata": {},
     "output_type": "execute_result"
    }
   ],
   "source": [
    "gym.shape"
   ]
  },
  {
   "cell_type": "code",
   "execution_count": 44,
   "metadata": {
    "execution": {
     "iopub.execute_input": "2025-02-01T14:25:42.127226Z",
     "iopub.status.busy": "2025-02-01T14:25:42.126849Z",
     "iopub.status.idle": "2025-02-01T14:25:42.146541Z",
     "shell.execute_reply": "2025-02-01T14:25:42.145377Z",
     "shell.execute_reply.started": "2025-02-01T14:25:42.127194Z"
    }
   },
   "outputs": [
    {
     "name": "stdout",
     "output_type": "stream",
     "text": [
      "<class 'pandas.core.frame.DataFrame'>\n",
      "RangeIndex: 14589 entries, 0 to 14588\n",
      "Data columns (total 15 columns):\n",
      " #   Column          Non-Null Count  Dtype  \n",
      "---  ------          --------------  -----  \n",
      " 0   ID              14589 non-null  int64  \n",
      " 1   Sex             14589 non-null  object \n",
      " 2   Age             14589 non-null  int64  \n",
      " 3   Height          14589 non-null  float64\n",
      " 4   Weight          14589 non-null  float64\n",
      " 5   Hypertension    14589 non-null  object \n",
      " 6   Diabetes        14589 non-null  object \n",
      " 7   BMI             14589 non-null  float64\n",
      " 8   Level           14589 non-null  object \n",
      " 9   Fitness Goal    14589 non-null  object \n",
      " 10  Fitness Type    14589 non-null  object \n",
      " 11  Exercises       14589 non-null  object \n",
      " 12  Equipment       14589 non-null  object \n",
      " 13  Diet            14589 non-null  object \n",
      " 14  Recommendation  14589 non-null  object \n",
      "dtypes: float64(3), int64(2), object(10)\n",
      "memory usage: 1.7+ MB\n"
     ]
    }
   ],
   "source": [
    "gym.info()"
   ]
  },
  {
   "cell_type": "code",
   "execution_count": 45,
   "metadata": {
    "execution": {
     "iopub.execute_input": "2025-02-01T14:25:44.394581Z",
     "iopub.status.busy": "2025-02-01T14:25:44.394242Z",
     "iopub.status.idle": "2025-02-01T14:25:44.404189Z",
     "shell.execute_reply": "2025-02-01T14:25:44.402943Z",
     "shell.execute_reply.started": "2025-02-01T14:25:44.394554Z"
    }
   },
   "outputs": [
    {
     "data": {
      "text/plain": [
       "Sex\n",
       "Male      9374\n",
       "Female    5215\n",
       "Name: count, dtype: int64"
      ]
     },
     "execution_count": 45,
     "metadata": {},
     "output_type": "execute_result"
    }
   ],
   "source": [
    "gym['Sex'].value_counts()"
   ]
  },
  {
   "cell_type": "code",
   "execution_count": 22,
   "metadata": {
    "execution": {
     "iopub.execute_input": "2025-02-01T13:55:46.030506Z",
     "iopub.status.busy": "2025-02-01T13:55:46.030104Z",
     "iopub.status.idle": "2025-02-01T13:55:46.039056Z",
     "shell.execute_reply": "2025-02-01T13:55:46.038124Z",
     "shell.execute_reply.started": "2025-02-01T13:55:46.030465Z"
    }
   },
   "outputs": [
    {
     "data": {
      "text/plain": [
       "Level\n",
       "Overweight     4142\n",
       "Normal         3650\n",
       "Obuse          3439\n",
       "Underweight    3358\n",
       "Name: count, dtype: int64"
      ]
     },
     "execution_count": 22,
     "metadata": {},
     "output_type": "execute_result"
    }
   ],
   "source": [
    "gym['Level'].value_counts()"
   ]
  },
  {
   "cell_type": "code",
   "execution_count": 23,
   "metadata": {
    "execution": {
     "iopub.execute_input": "2025-02-01T13:55:47.679587Z",
     "iopub.status.busy": "2025-02-01T13:55:47.679251Z",
     "iopub.status.idle": "2025-02-01T13:55:47.688170Z",
     "shell.execute_reply": "2025-02-01T13:55:47.687231Z",
     "shell.execute_reply.started": "2025-02-01T13:55:47.679560Z"
    }
   },
   "outputs": [
    {
     "data": {
      "text/plain": [
       "Fitness Type\n",
       "Cardio Fitness      7581\n",
       "Muscular Fitness    7008\n",
       "Name: count, dtype: int64"
      ]
     },
     "execution_count": 23,
     "metadata": {},
     "output_type": "execute_result"
    }
   ],
   "source": [
    "gym['Fitness Type'].value_counts()"
   ]
  },
  {
   "cell_type": "code",
   "execution_count": 48,
   "metadata": {
    "execution": {
     "iopub.execute_input": "2025-02-01T14:30:09.152928Z",
     "iopub.status.busy": "2025-02-01T14:30:09.152593Z",
     "iopub.status.idle": "2025-02-01T14:30:09.161685Z",
     "shell.execute_reply": "2025-02-01T14:30:09.160573Z",
     "shell.execute_reply.started": "2025-02-01T14:30:09.152902Z"
    }
   },
   "outputs": [
    {
     "data": {
      "text/plain": [
       "Fitness Goal\n",
       "Weight Loss    7581\n",
       "Weight Gain    7008\n",
       "Name: count, dtype: int64"
      ]
     },
     "execution_count": 48,
     "metadata": {},
     "output_type": "execute_result"
    }
   ],
   "source": [
    "gym['Fitness Goal'].value_counts()"
   ]
  },
  {
   "cell_type": "code",
   "execution_count": 49,
   "metadata": {
    "execution": {
     "iopub.execute_input": "2025-02-01T14:30:09.395818Z",
     "iopub.status.busy": "2025-02-01T14:30:09.395498Z",
     "iopub.status.idle": "2025-02-01T14:30:09.405884Z",
     "shell.execute_reply": "2025-02-01T14:30:09.404518Z",
     "shell.execute_reply.started": "2025-02-01T14:30:09.395795Z"
    }
   },
   "outputs": [
    {
     "data": {
      "text/plain": [
       "Exercises\n",
       "Brisk walking, cycling, swimming, running , or dancing.         4206\n",
       "Squats, deadlifts, bench presses, and overhead presses          3632\n",
       "Squats, yoga, deadlifts, bench presses, and overhead presses    3376\n",
       "Walking, Yoga, Swimming.                                        1688\n",
       "brisk walking, cycling, swimming, or dancing.                   1687\n",
       "Name: count, dtype: int64"
      ]
     },
     "execution_count": 49,
     "metadata": {},
     "output_type": "execute_result"
    }
   ],
   "source": [
    "gym['Exercises'].value_counts()"
   ]
  },
  {
   "cell_type": "code",
   "execution_count": 50,
   "metadata": {
    "execution": {
     "iopub.execute_input": "2025-02-01T14:30:09.623394Z",
     "iopub.status.busy": "2025-02-01T14:30:09.623030Z",
     "iopub.status.idle": "2025-02-01T14:30:09.633152Z",
     "shell.execute_reply": "2025-02-01T14:30:09.632037Z",
     "shell.execute_reply.started": "2025-02-01T14:30:09.623353Z"
    }
   },
   "outputs": [
    {
     "data": {
      "text/plain": [
       "Equipment\n",
       "Ellipticals, Indoor Rowers,Treadmills, Rowing machine                                   3356\n",
       "Dumbbells and barbells                                                                  1944\n",
       "Light athletic shoes, resistance bands, and light dumbbells.                            1688\n",
       "Dumbbells, barbells and Blood glucose monitor                                           1688\n",
       "Light athletic shoes, resistance bands, light dumbbells and a Blood glucose monitor.    1688\n",
       "Kettlebell, Dumbbells, Yoga Mat, Treadmill                                              1680\n",
       "Kettlebell, Dumbbells, Yoga Mat                                                         1679\n",
       "Ellipticals, Indoor Rowers,Treadmills, and Rowing machine                                830\n",
       "Equipment Required                                                                        36\n",
       "Name: count, dtype: int64"
      ]
     },
     "execution_count": 50,
     "metadata": {},
     "output_type": "execute_result"
    }
   ],
   "source": [
    "gym['Equipment'].value_counts()"
   ]
  },
  {
   "cell_type": "code",
   "execution_count": 51,
   "metadata": {
    "execution": {
     "iopub.execute_input": "2025-02-01T14:30:10.449800Z",
     "iopub.status.busy": "2025-02-01T14:30:10.449444Z",
     "iopub.status.idle": "2025-02-01T14:30:10.457363Z",
     "shell.execute_reply": "2025-02-01T14:30:10.456344Z",
     "shell.execute_reply.started": "2025-02-01T14:30:10.449771Z"
    }
   },
   "outputs": [
    {
     "data": {
      "text/plain": [
       "0                                            Vegetables: (Carrots, Sweet Potato, and Lettuce); Protein Intake: (Red meats, poultry, fish, eggs, dairy products, legumes, and nuts); Juice: (Fruit juice, watermelon juice, carrot juice, apple juice and mango juice)\n",
       "1                                                 Vegetables: (Tomatoes, Garlic, leafy greens, broccoli, carrots, and bell peppers); Protein Intake: (poultry, fish, tofu, legumes, and low-fat dairy products); Juice: (Apple juice, beetroot juice and mango juice)\n",
       "2                                                      Vegetables: (Garlic, Roma Tomatoes, Capers and Iceberg Lettuce); Protein Intake: (Cheese Standwish, Baru Nuts, Beech Nuts, Squash Seeds, and Mixed Teff); Juice: (Apple juice, beetroot juice and mango juice)\n",
       "3        Vegetables: (Garlic, Roma Tomatoes, Capers, Green Papper, and Iceberg Lettuce); Protein Intake: (Cheese Sandwich, Baru Nuts, Beech Nuts, Squash Seeds, Mixed Teff, peanut butter, and jelly sandwich); Juice: (Apple juice, beetroot juice, and mango juice)\n",
       "4                                                Vegetables: (Carrots, Sweet Potato, Lettuce); Protein Intake: (Red meats, poultry, fish, eggs, dairy products, legumes, and nuts); Juice: (Fruit juice, watermelon juice, carrot juice, apple juice and mango juice)\n",
       "                                                                                                                                     ...                                                                                                                             \n",
       "14584                                     Vegetables: (Broccoli, Carrots, Spinach, Lettuce, Onion); Protein Intake: (Cheese, Cattoge cheese, Skim Milk, Law fat Milk, and Baru Nuts); Juice: (Fruit Juice, Aloe vera juice, Cold-pressed juice, and Watermelon juice)\n",
       "14585                                     Vegetables: (Broccoli, Carrots, Spinach, Lettuce, Onion); Protein Intake: (Cheese, Cattoge cheese, Skim Milk, Law fat Milk, and Baru Nuts); Juice: (Fruit Juice, Aloe vera juice, Cold-pressed juice, and Watermelon juice)\n",
       "14586                                     Vegetables: (Broccoli, Carrots, Spinach, Lettuce, Onion); Protein Intake: (Cheese, Cattoge cheese, Skim Milk, Law fat Milk, and Baru Nuts); Juice: (Fruit Juice, Aloe vera juice, Cold-pressed juice, and Watermelon juice)\n",
       "14587                                     Vegetables: (Broccoli, Carrots, Spinach, Lettuce, Onion); Protein Intake: (Cheese, Cattoge cheese, Skim Milk, Law fat Milk, and Baru Nuts); Juice: (Fruit Juice, Aloe vera juice, Cold-pressed juice, and Watermelon juice)\n",
       "14588                                     Vegetables: (Broccoli, Carrots, Spinach, Lettuce, Onion); Protein Intake: (Cheese, Cattoge cheese, Skim Milk, Law fat Milk, and Baru Nuts); Juice: (Fruit Juice, Aloe vera juice, Cold-pressed juice, and Watermelon juice)\n",
       "Name: Diet, Length: 14589, dtype: object"
      ]
     },
     "execution_count": 51,
     "metadata": {},
     "output_type": "execute_result"
    }
   ],
   "source": [
    "\n",
    "gym['Diet']"
   ]
  },
  {
   "cell_type": "code",
   "execution_count": 52,
   "metadata": {
    "execution": {
     "iopub.execute_input": "2025-02-01T14:30:11.933310Z",
     "iopub.status.busy": "2025-02-01T14:30:11.932889Z",
     "iopub.status.idle": "2025-02-01T14:30:11.942856Z",
     "shell.execute_reply": "2025-02-01T14:30:11.941864Z",
     "shell.execute_reply.started": "2025-02-01T14:30:11.933280Z"
    }
   },
   "outputs": [
    {
     "data": {
      "text/plain": [
       "Recommendation\n",
       "Follow a regular exercise schedule. Adhere to the exercise and diet plan to get better results. It is important to approach weight loss in a healthy and balanced way, focusing on exercise and nutrition. Keep in mind that weight loss should be gradual and focused on building lean muscle rather than increasing fat. Additionally, it's always a good idea to consult with a healthcare professional or registered dietitian before making any significant changes to your exercise or diet plan. Here are some important tips:- Stay hydrated by drinking enough water throughout the day. Monitor your progress and adjust your diet and exercise routine accordingly. Get adequate sleep to support muscle recovery and overall health. Always monitor your situation, and consult your doctor or a professional counselor. Consistency: Establish a consistent eating and exercise routine. Consistency is key when it comes to long-term weight management. NOTICE: Opt for whole grains over refined grains for added fiber.Limit added sugars and opt for natural sources like honey or fruits.                                                                                                                                                                                                                                                                                                                                                                                                              2507\n",
       "Follow a regular exercise schedule. Adhere to the exercise and diet plan to get better results. It is important to approach weight gain in a healthy and balanced way, focusing on both exercise and nutrition. Keep in mind that weight gain should be gradual and focused on building lean muscle rather than increasing fat. Additionally, it's always a good idea to consult with a health care professional or registered dietitian before making any significant changes to your exercise or diet plan. Here are some important tips:- Stay hydrated by drinking enough water throughout the day. Monitor your progress and adjust your diet and exercise routine accordingly. Get adequate sleep to support muscle recovery and overall health. Always monitor your situation, and consult your personal doctor or a professional counselor.                                                                                                                                                                                                                                                                                                                                                                                                                                                                                                                                                                                                                                                                       1944\n",
       "Follow a regular exercise schedule. Adhere to the exercise and diet plan to get better results. I'm not a medical professional, but I can give you general advice that you should talk to your healthcare provider before making any changes to your exercise or diet, especially if you have hypertension. It is important to work with a health care professional to create an individualized plan based on your unique health needs. Always consult a health care professional or dietician for personalized advice based on your specific medical condition, as high blood pressure requires careful management of diet and exercise. Here are some important tips:- Stay hydrated by drinking enough water throughout the day. Monitor your progress and adjust your diet and exercise routine accordingly. Get adequate sleep to support muscle recovery and overall health. Always monitor your situation, and consult your personal doctor or a professional counselor.                                                                                                                                                                                                                                                                                                                                                                                                                                                                                                                                           1688\n",
       "Follow a regular exercise schedule. Adhere to the exercise and diet plan to get better results. I'm not a doctor, but I give you general advice on weight gain exercises and diet plans. It is important for individuals with diabetes to consult with a health care professional, such as a registered dietitian or health care provider, to create an individualized plan that meets their unique needs. Also, avoid anything that can cause diabetes whether you are doing fitness or not. Here are some important tips:- Stay hydrated by drinking enough water throughout the day. Monitor your progress and adjust your diet and exercise routine accordingly. Get adequate sleep to support muscle recovery and overall health. Always monitor your situation, and consult your personal doctor or a professional counselor.                                                                                                                                                                                                                                                                                                                                                                                                                                                                                                                                                                                                                                                                                       1688\n",
       "Follow a regular exercise schedule. Adhere to the exercise and diet plan to get better results. I'm not a doctor, but I give you general advice on weight gain exercises and diet plans. It is important for individuals with diabetes and high blood pressure to consult with a health care professional, such as a registered dietitian or health care provider, to find an individualized plan that meets their unique needs. also stop everything that can increase diabetes and blood pressure whether you are doing fitness or not. measure your sugar (diabetes) and blood before starting fitness. Here are some important tips:- Stay hydrated by drinking enough water throughout the day. Monitor your progress and adjust your diet and exercise routine accordingly. Get adequate sleep to support muscle recovery and overall health. Always monitor your situation, and consult your personal doctor or a professional counselor.                                                                                                                                                                                                                                                                                                                                                                                                                                                                                                                                                                          1688\n",
       "Follow a regular exercise schedule. Adhere to the exercise and diet plan to get better results. I'm not a doctor, but I give you general advice on weight gain exercises and diet plans. It is important for individuals with diabetes and high blood pressure to consult with a health care professional, such as a registered dietitian or health care provider, to find an individualized plan that meets their unique needs. also, stop everything that can increase diabetes and blood pressure whether you are doing fitness or not. measure your sugar (diabetes) and blood before starting fitness. Here are some important tips:- Stay hydrated by drinking enough water throughout the day. Monitor your progress and adjust your diet and exercise routine accordingly. Get adequate sleep to support muscle recovery and overall health. Always monitor your situation, and consult your doctor or a professional counselor. Always consult with your healthcare provider before starting any new diet or exercise program, especially if you have underlying health conditions like diabetes. They can provide guidance based on your specific health needs and may recommend additional strategies or medications if necessary. Consistency: Establish a consistent eating and exercise routine. Consistency is key when it comes to long-term weight management. NOTICE: Opt for whole grains over refined grains for added fiber. Limit added sugars and opt for natural sources like honey or fruits.    1680\n",
       "Follow a regular exercise schedule. Adhere to the exercise and diet plan to get better results. It is important to approach weight loss in a healthy and balanced way, focusing on exercise and nutrition. Keep in mind that weight lossshould be gradual and focused on building lean muscle rather than increasing fat. Additionally, it's always a good idea to consult with a healthcare professional or registered dietitian before making any significant changes to your exercise or diet plan. Here are some important tips:- Stay hydrated by drinking enough water throughout the day. Monitor your progress and adjust your diet and exercise routine accordingly. Get adequate sleep to support muscle recovery and overall health. Always monitor your situation, and consult your doctor or a professional counselor. Always consult with your healthcare provider before starting any new diet or exercise program, especially if you have underlying health conditions like hypertension. They can provide guidance based on your specific health needs and may recommend additional strategies or medications if necessary. Consistency: Establish a consistent eating and exercise routine. Consistency is key when it comes to long-term weight management. NOTICE: Opt for whole grains over refined grains for added fiber.Limit added sugars and opt for natural sources like honey or fruits.                                                                                                      1679\n",
       "Follow a regular exercise schedule. Adhere to the exercise and diet plan to get better results. I'm not a doctor, but I give you general advice on weight loss exercises and diet plans. Individuals with diabetes need to consult with a health care professional, such as a registered dietitian or health care provider, to create an individualized plan that meets their unique needs. Also, avoid anything that can cause diabetes whether you are doing fitness or not. Here are some important tips:- Stay hydrated by drinking enough water throughout the day. Monitor your progress and adjust your diet and exercise routine accordingly. Get adequate sleep to support muscle recovery and overall health. Always monitor your situation, and consult your doctor or a professional counselor. Always consult with your healthcare provider before starting any new diet or exercise program, especially if you have underlying health conditions like diabetes. They can provide guidance based on your specific health needs and may recommend additional strategies or medications if necessary. Consistency: Establish a consistent eating and exercise routine. Consistency is key when it comes to long-term weight management. NOTICE: Opt for whole grains over refined grains for added fiber. Limit added sugars and opt for natural sources like honey or fruits.                                                                                                                                 1679\n",
       "Conclusion Recommendation                                                                                                                                                                                                                                                                                                                                                                                                                                                                                                                                                                                                                                                                                                                                                                                                                                                                                                                                                                                                                                                                                                                                                                                                                                                                                                                                                                                                                                                                                                   36\n",
       "Name: count, dtype: int64"
      ]
     },
     "execution_count": 52,
     "metadata": {},
     "output_type": "execute_result"
    }
   ],
   "source": [
    "gym['Recommendation'].value_counts()"
   ]
  },
  {
   "cell_type": "code",
   "execution_count": 64,
   "metadata": {
    "execution": {
     "iopub.execute_input": "2025-02-01T14:40:31.096380Z",
     "iopub.status.busy": "2025-02-01T14:40:31.096007Z",
     "iopub.status.idle": "2025-02-01T14:40:31.103577Z",
     "shell.execute_reply": "2025-02-01T14:40:31.102331Z",
     "shell.execute_reply.started": "2025-02-01T14:40:31.096351Z"
    }
   },
   "outputs": [],
   "source": [
    "gym = gym.drop(['Diet', 'ID','Hypertension','Diabetes','BMI','Recommendation','Equipment'], axis=1)\n"
   ]
  },
  {
   "cell_type": "code",
   "execution_count": 65,
   "metadata": {
    "execution": {
     "iopub.execute_input": "2025-02-01T14:40:32.364520Z",
     "iopub.status.busy": "2025-02-01T14:40:32.364155Z",
     "iopub.status.idle": "2025-02-01T14:40:32.380859Z",
     "shell.execute_reply": "2025-02-01T14:40:32.379559Z",
     "shell.execute_reply.started": "2025-02-01T14:40:32.364490Z"
    }
   },
   "outputs": [
    {
     "name": "stdout",
     "output_type": "stream",
     "text": [
      "<class 'pandas.core.frame.DataFrame'>\n",
      "RangeIndex: 14589 entries, 0 to 14588\n",
      "Data columns (total 8 columns):\n",
      " #   Column        Non-Null Count  Dtype  \n",
      "---  ------        --------------  -----  \n",
      " 0   Sex           14589 non-null  object \n",
      " 1   Age           14589 non-null  int64  \n",
      " 2   Height        14589 non-null  float64\n",
      " 3   Weight        14589 non-null  float64\n",
      " 4   Level         14589 non-null  object \n",
      " 5   Fitness Goal  14589 non-null  object \n",
      " 6   Fitness Type  14589 non-null  object \n",
      " 7   Exercises     14589 non-null  object \n",
      "dtypes: float64(2), int64(1), object(5)\n",
      "memory usage: 911.9+ KB\n"
     ]
    }
   ],
   "source": [
    "gym.info()"
   ]
  },
  {
   "cell_type": "code",
   "execution_count": 66,
   "metadata": {
    "execution": {
     "iopub.execute_input": "2025-02-01T14:40:34.936786Z",
     "iopub.status.busy": "2025-02-01T14:40:34.936423Z",
     "iopub.status.idle": "2025-02-01T14:40:34.949303Z",
     "shell.execute_reply": "2025-02-01T14:40:34.948245Z",
     "shell.execute_reply.started": "2025-02-01T14:40:34.936757Z"
    }
   },
   "outputs": [
    {
     "data": {
      "text/plain": [
       "Sex             0\n",
       "Age             0\n",
       "Height          0\n",
       "Weight          0\n",
       "Level           0\n",
       "Fitness Goal    0\n",
       "Fitness Type    0\n",
       "Exercises       0\n",
       "dtype: int64"
      ]
     },
     "execution_count": 66,
     "metadata": {},
     "output_type": "execute_result"
    }
   ],
   "source": [
    "gym.isnull().sum()"
   ]
  },
  {
   "cell_type": "code",
   "execution_count": 67,
   "metadata": {
    "execution": {
     "iopub.execute_input": "2025-02-01T14:40:37.430588Z",
     "iopub.status.busy": "2025-02-01T14:40:37.430191Z",
     "iopub.status.idle": "2025-02-01T14:40:37.448256Z",
     "shell.execute_reply": "2025-02-01T14:40:37.446927Z",
     "shell.execute_reply.started": "2025-02-01T14:40:37.430561Z"
    }
   },
   "outputs": [],
   "source": [
    "sex_map = {'Male': 0, 'Female': 1}\n",
    "level_map = {'Overweight': 0, 'Normal': 1, 'Obuse': 2, 'Underweight': 3}\n",
    "fitness_type_map = {'Cardio Fitness': 0, 'Muscular Fitness': 1}\n",
    "fitness_goal_map = {'Weight Loss': 0, 'Weight Gain': 1}\n",
    "\n",
    "# Apply mapping\n",
    "gym['Sex'] = gym['Sex'].map(sex_map)\n",
    "gym['Level'] = gym['Level'].map(level_map)\n",
    "gym['Fitness Type'] = gym['Fitness Type'].map(fitness_type_map)\n",
    "gym['Fitness Goal'] = gym['Fitness Goal'].map(fitness_goal_map)"
   ]
  },
  {
   "cell_type": "code",
   "execution_count": 68,
   "metadata": {
    "execution": {
     "iopub.execute_input": "2025-02-01T14:40:39.359443Z",
     "iopub.status.busy": "2025-02-01T14:40:39.359118Z",
     "iopub.status.idle": "2025-02-01T14:40:39.371600Z",
     "shell.execute_reply": "2025-02-01T14:40:39.370461Z",
     "shell.execute_reply.started": "2025-02-01T14:40:39.359417Z"
    }
   },
   "outputs": [
    {
     "data": {
      "text/html": [
       "<div>\n",
       "<style scoped>\n",
       "    .dataframe tbody tr th:only-of-type {\n",
       "        vertical-align: middle;\n",
       "    }\n",
       "\n",
       "    .dataframe tbody tr th {\n",
       "        vertical-align: top;\n",
       "    }\n",
       "\n",
       "    .dataframe thead th {\n",
       "        text-align: right;\n",
       "    }\n",
       "</style>\n",
       "<table border=\"1\" class=\"dataframe\">\n",
       "  <thead>\n",
       "    <tr style=\"text-align: right;\">\n",
       "      <th></th>\n",
       "      <th>Sex</th>\n",
       "      <th>Age</th>\n",
       "      <th>Height</th>\n",
       "      <th>Weight</th>\n",
       "      <th>Level</th>\n",
       "      <th>Fitness Goal</th>\n",
       "      <th>Fitness Type</th>\n",
       "      <th>Exercises</th>\n",
       "    </tr>\n",
       "  </thead>\n",
       "  <tbody>\n",
       "    <tr>\n",
       "      <th>0</th>\n",
       "      <td>0</td>\n",
       "      <td>18</td>\n",
       "      <td>1.68</td>\n",
       "      <td>47.5</td>\n",
       "      <td>3</td>\n",
       "      <td>1</td>\n",
       "      <td>1</td>\n",
       "      <td>Squats, deadlifts, bench presses, and overhead presses</td>\n",
       "    </tr>\n",
       "    <tr>\n",
       "      <th>1</th>\n",
       "      <td>0</td>\n",
       "      <td>18</td>\n",
       "      <td>1.68</td>\n",
       "      <td>47.5</td>\n",
       "      <td>3</td>\n",
       "      <td>1</td>\n",
       "      <td>1</td>\n",
       "      <td>Squats, deadlifts, bench presses, and overhead presses</td>\n",
       "    </tr>\n",
       "    <tr>\n",
       "      <th>2</th>\n",
       "      <td>0</td>\n",
       "      <td>18</td>\n",
       "      <td>1.68</td>\n",
       "      <td>47.5</td>\n",
       "      <td>3</td>\n",
       "      <td>1</td>\n",
       "      <td>1</td>\n",
       "      <td>Squats, yoga, deadlifts, bench presses, and overhead presses</td>\n",
       "    </tr>\n",
       "    <tr>\n",
       "      <th>3</th>\n",
       "      <td>0</td>\n",
       "      <td>18</td>\n",
       "      <td>1.68</td>\n",
       "      <td>47.5</td>\n",
       "      <td>3</td>\n",
       "      <td>1</td>\n",
       "      <td>1</td>\n",
       "      <td>Squats, yoga, deadlifts, bench presses, and overhead presses</td>\n",
       "    </tr>\n",
       "    <tr>\n",
       "      <th>4</th>\n",
       "      <td>0</td>\n",
       "      <td>18</td>\n",
       "      <td>1.68</td>\n",
       "      <td>47.5</td>\n",
       "      <td>3</td>\n",
       "      <td>1</td>\n",
       "      <td>1</td>\n",
       "      <td>Squats, deadlifts, bench presses, and overhead presses</td>\n",
       "    </tr>\n",
       "  </tbody>\n",
       "</table>\n",
       "</div>"
      ],
      "text/plain": [
       "   Sex  Age  Height  Weight  Level  Fitness Goal  Fitness Type  \\\n",
       "0    0   18    1.68    47.5      3             1             1   \n",
       "1    0   18    1.68    47.5      3             1             1   \n",
       "2    0   18    1.68    47.5      3             1             1   \n",
       "3    0   18    1.68    47.5      3             1             1   \n",
       "4    0   18    1.68    47.5      3             1             1   \n",
       "\n",
       "                                                      Exercises  \n",
       "0        Squats, deadlifts, bench presses, and overhead presses  \n",
       "1        Squats, deadlifts, bench presses, and overhead presses  \n",
       "2  Squats, yoga, deadlifts, bench presses, and overhead presses  \n",
       "3  Squats, yoga, deadlifts, bench presses, and overhead presses  \n",
       "4        Squats, deadlifts, bench presses, and overhead presses  "
      ]
     },
     "execution_count": 68,
     "metadata": {},
     "output_type": "execute_result"
    }
   ],
   "source": [
    "gym.head()"
   ]
  },
  {
   "cell_type": "code",
   "execution_count": 69,
   "metadata": {
    "execution": {
     "iopub.execute_input": "2025-02-01T14:40:41.714611Z",
     "iopub.status.busy": "2025-02-01T14:40:41.714276Z",
     "iopub.status.idle": "2025-02-01T14:40:41.727839Z",
     "shell.execute_reply": "2025-02-01T14:40:41.726750Z",
     "shell.execute_reply.started": "2025-02-01T14:40:41.714580Z"
    }
   },
   "outputs": [
    {
     "name": "stdout",
     "output_type": "stream",
     "text": [
      "<class 'pandas.core.frame.DataFrame'>\n",
      "RangeIndex: 14589 entries, 0 to 14588\n",
      "Data columns (total 8 columns):\n",
      " #   Column        Non-Null Count  Dtype  \n",
      "---  ------        --------------  -----  \n",
      " 0   Sex           14589 non-null  int64  \n",
      " 1   Age           14589 non-null  int64  \n",
      " 2   Height        14589 non-null  float64\n",
      " 3   Weight        14589 non-null  float64\n",
      " 4   Level         14589 non-null  int64  \n",
      " 5   Fitness Goal  14589 non-null  int64  \n",
      " 6   Fitness Type  14589 non-null  int64  \n",
      " 7   Exercises     14589 non-null  object \n",
      "dtypes: float64(2), int64(5), object(1)\n",
      "memory usage: 911.9+ KB\n"
     ]
    }
   ],
   "source": [
    "gym.info()"
   ]
  },
  {
   "cell_type": "code",
   "execution_count": 3,
   "metadata": {},
   "outputs": [
    {
     "name": "stdout",
     "output_type": "stream",
     "text": [
      "Recommended Exercise: Squats, deadlifts, bench presses, and overhead presses\n"
     ]
    }
   ],
   "source": [
    "import pandas as pd\n",
    "import numpy as np\n",
    "from sklearn.metrics.pairwise import cosine_similarity\n",
    "gym=pd.read_csv(r'gym recommendation.csv')\n",
    "\n",
    "sex_map = {'Male': 0, 'Female': 1}\n",
    "level_map = {'Overweight': 0, 'Normal': 1, 'Obuse': 2, 'Underweight': 3}\n",
    "fitness_type_map = {'Cardio Fitness': 0, 'Muscular Fitness': 1}\n",
    "fitness_goal_map = {'Weight Loss': 0, 'Weight Gain': 1}\n",
    "\n",
    "# Apply mapping\n",
    "gym['Sex'] = gym['Sex'].map(sex_map)\n",
    "gym['Level'] = gym['Level'].map(level_map)\n",
    "gym['Fitness Type'] = gym['Fitness Type'].map(fitness_type_map)\n",
    "gym['Fitness Goal'] = gym['Fitness Goal'].map(fitness_goal_map)\n",
    "# Select features for recommendation\n",
    "features = [\"Sex\", \"Age\", \"Height\", \"Weight\", \"Level\", \"Fitness Goal\", \"Fitness Type\"]\n",
    "X = gym[features]\n",
    "\n",
    "# Function to recommend exercises based on user input using cosine similarity\n",
    "def recommend_exercises(user_input):\n",
    "    \"\"\"Returns exercise recommendations based on cosine similarity.\"\"\"\n",
    "    \n",
    "    # Convert input to DataFrame\n",
    "    user_df = pd.DataFrame([user_input], columns=features)\n",
    "    \n",
    "    # Calculate cosine similarity\n",
    "    similarity = cosine_similarity(user_df, X)\n",
    "    \n",
    "    # Get the index of the most similar exercise\n",
    "    most_similar_index = np.argmax(similarity)\n",
    "    \n",
    "    # Get the recommended exercise\n",
    "    recommended_exercise = gym.iloc[most_similar_index][\"Exercises\"]\n",
    "    \n",
    "    return recommended_exercise\n",
    "\n",
    "# Example user input (Pass as string, then encode)\n",
    "new_user_str = {\n",
    "    \"Sex\": 1,\n",
    "    \"Age\": 20,\n",
    "    \"Height\": 160.0,\n",
    "    \"Weight\": 65.0,\n",
    "    \"Level\": 2,\n",
    "    \"Fitness Goal\": 0,\n",
    "    \"Fitness Type\": 0\n",
    "}\n",
    "\n",
    "# Get recommendation\n",
    "recommendation = recommend_exercises(new_user_str)\n",
    "\n",
    "print(\"Recommended Exercise:\", recommendation)\n"
   ]
  },
  {
   "cell_type": "code",
   "execution_count": null,
   "metadata": {},
   "outputs": [],
   "source": []
  }
 ],
 "metadata": {
  "kaggle": {
   "accelerator": "none",
   "dataSources": [
    {
     "datasetId": 6584612,
     "sourceId": 10635063,
     "sourceType": "datasetVersion"
    }
   ],
   "dockerImageVersionId": 30839,
   "isGpuEnabled": false,
   "isInternetEnabled": true,
   "language": "python",
   "sourceType": "notebook"
  },
  "kernelspec": {
   "display_name": "Python 3 (ipykernel)",
   "language": "python",
   "name": "python3"
  },
  "language_info": {
   "codemirror_mode": {
    "name": "ipython",
    "version": 3
   },
   "file_extension": ".py",
   "mimetype": "text/x-python",
   "name": "python",
   "nbconvert_exporter": "python",
   "pygments_lexer": "ipython3",
   "version": "3.12.7"
  }
 },
 "nbformat": 4,
 "nbformat_minor": 4
}
